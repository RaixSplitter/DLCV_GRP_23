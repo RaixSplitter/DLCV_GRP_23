{
 "cells": [
  {
   "cell_type": "code",
   "execution_count": 1,
   "metadata": {},
   "outputs": [
    {
     "name": "stdout",
     "output_type": "stream",
     "text": [
      "The code will run on CPU.\n"
     ]
    }
   ],
   "source": [
    "import os\n",
    "import cv2\n",
    "import torch\n",
    "import matplotlib.pyplot as plt\n",
    "import matplotlib.patches as patches\n",
    "import numpy as np\n",
    "from collections import Counter\n",
    "\n",
    "from torch.utils.data import DataLoader\n",
    "from torch.utils.data import DataLoader, random_split\n",
    "from torchvision import transforms\n",
    "# from torchvision.transforms import functional as F\n",
    "from torch.nn import functional as F\n",
    "from sklearn.metrics import accuracy_score, precision_score, recall_score, f1_score\n",
    "from tqdm import tqdm\n",
    "import torchvision.models as models\n",
    "import numpy as np\n",
    "import torch\n",
    "import torch.nn as nn\n",
    "import torch.nn.functional as F\n",
    "\n",
    "# Own\n",
    "from waste_dataset import WasteDatasetImages, SUPERCATEGORIES\n",
    "from classifier.resnet18 import resnet18#, resnet18_inference # Error?\n",
    "from R_CNN import* \n",
    "from utility import*"
   ]
  },
  {
   "cell_type": "code",
   "execution_count": 2,
   "metadata": {},
   "outputs": [
    {
     "data": {
      "text/plain": [
       "<function R_CNN.plot_images_jupyter(images_og, image_idx, train_proposals, train_label, num_images=8)>"
      ]
     },
     "execution_count": 2,
     "metadata": {},
     "output_type": "execute_result"
    }
   ],
   "source": [
    "plot_images_jupyter\n",
    "\n",
    "# def plot_image_with_boxes(image, bboxes, labels, title, filename):\n",
    "#     fig, ax = plt.subplots(1)\n",
    "#     ax.imshow(image)\n",
    "#     colors = ['r', 'g', 'b', 'y', 'm', 'c', 'k', 'w']\n",
    "    \n",
    "#     for i, (bbox, label) in enumerate(zip(bboxes, labels)):\n",
    "#         x1, y1, x2, y2 = bbox\n",
    "#         width = x2 - x1\n",
    "#         height = y2 - y1\n",
    "#         rect = patches.Rectangle((x1, y1), width, height, linewidth=1, edgecolor=colors[i % len(colors)], facecolor='none')\n",
    "#         ax.add_patch(rect)\n",
    "#         ax.text(x1, y1, str(label), color=colors[i % len(colors)])\n",
    "\n",
    "#     plt.title(title)\n",
    "#     plt.savefig(filename)\n",
    "#     plt.close()\n"
   ]
  },
  {
   "cell_type": "code",
   "execution_count": 2,
   "metadata": {},
   "outputs": [
    {
     "name": "stdout",
     "output_type": "stream",
     "text": [
      "Total number of categories: 8\n",
      "Inference\n"
     ]
    },
    {
     "name": "stderr",
     "output_type": "stream",
     "text": [
      "Processing images: 100%|██████████| 20/20 [00:13<00:00,  1.45it/s]\n",
      "/zhome/a7/d/156506/myfolder/DLCV_GRP_23/Projects/Project4/src/R_CNN.py:225: UserWarning: Creating a tensor from a list of numpy.ndarrays is extremely slow. Please consider converting the list to a single numpy.ndarray with numpy.array() before converting to a tensor. (Triggered internally at ../torch/csrc/utils/tensor_new.cpp:245.)\n",
      "  images = torch.tensor(images)\n"
     ]
    }
   ],
   "source": [
    "patch_size = (64,64)\n",
    "batch_size = 32\n",
    "\n",
    "dataset = WasteDatasetImages(transform=transforms.ToTensor(), resize=(256,256))\n",
    "num_classes = dataset.num_categories()\n",
    "print(f\"Total number of categories: {num_classes}\")\n",
    "\n",
    "# Split the dataset into train and test sets\n",
    "train_size = int(0.8 * len(dataset))\n",
    "test_size = len(dataset) - train_size\n",
    "train_dataset, test_dataset = random_split(dataset, [train_size, test_size])\n",
    "\n",
    "max_proposals_per_image = 1000 # Selective search will generate max 1000 proposals per image\n",
    "num_images_to_process_train = int(len(train_dataset)/2) #Amount of train images to process\n",
    "num_images_to_process_test = 20 #Amount of test images to process\n",
    "\n",
    "# Create dataloaders for train and test sets\n",
    "train_dataloader = DataLoader(train_dataset, batch_size=1, shuffle=True)\n",
    "test_dataloader  = DataLoader(test_dataset,  batch_size=1, shuffle=False)\n",
    "\n",
    "# Run selective search \n",
    "ss = cv2.ximgproc.segmentation.createSelectiveSearchSegmentation()\n",
    "\n",
    "print(\"Inference\")\n",
    "\n",
    "# model = resnet18_inference(8)  # Replace with your actual model class\n",
    "model = resnet18(8)  # Replace with your actual model class\n",
    "# model.load_state_dict(torch.load(\"trained_models/resnet18_model_10.pth\"))\n",
    "model.eval()\n",
    "\n",
    "#train_data, train_proposals, train_proposals_image, train_label, images_og, image_idx\n",
    "_, proposals_box_list, resized_images, _, _, image_idx = generate_proposals_and_labels(test_dataloader, ss, num_images_to_process_test, max_proposals_per_image, img_shape=patch_size)\n",
    "\n"
   ]
  },
  {
   "cell_type": "code",
   "execution_count": 3,
   "metadata": {},
   "outputs": [],
   "source": [
    "resized_images_array = np.array(resized_images, dtype=np.float32)\n",
    "resized_images_tensor = torch.from_numpy(resized_images_array)\n",
    "\n",
    "raw_scores = model(resized_images_tensor)\n",
    "\n",
    "# Convert raw scores to probabilities\n",
    "probabilities = F.softmax(raw_scores, dim=1)\n",
    "#print(\"probabilities\", probabilities)\n",
    "\n",
    "predicted_labels = torch.argmax(probabilities, dim=1)\n",
    "\n",
    "bbox_label_pairs = []\n",
    "for i, (bbox, label) in enumerate(zip(proposals_box_list, predicted_labels.tolist())):\n",
    "    if label != 0:\n",
    "        probability = probabilities[i][label].item()\n",
    "        bbox_label_pairs.append([bbox, label, probability])\n",
    "# probabilities[0][7].item()"
   ]
  },
  {
   "cell_type": "code",
   "execution_count": 6,
   "metadata": {},
   "outputs": [],
   "source": [
    "# predicted_bbox_label_vis_per_image = []  # Store the predicted bounding boxes and labels per image\n",
    "# current_index = 0\n",
    "\n",
    "# for img_bboxes in proposals_per_image:\n",
    "#     img_predictions = []\n",
    "#     for bbox in img_bboxes:\n",
    "#         label = predicted_labels[current_index].item()\n",
    "#         if label != 0:\n",
    "#             probability = probabilities[current_index][label].item()\n",
    "#             img_predictions.append([bbox, label])\n",
    "#         current_index += 1\n",
    "#     predicted_bbox_label_vis_per_image.append(img_predictions)"
   ]
  },
  {
   "cell_type": "code",
   "execution_count": 33,
   "metadata": {},
   "outputs": [],
   "source": [
    "ctest = 0\n",
    "ctrain = 0\n",
    "real_bbox_label_pairs = []      # list[list[float], int]\n",
    "real_bbox_label_image_vis = []  # for visualization purposes\n",
    "\n",
    "predicted_bbox_label_vis = []   # for visualization purposes\n",
    "\n",
    "for batch in test_dataloader:\n",
    "    if ctest >= num_images_to_process_test:\n",
    "        break\n",
    "    images, bboxes, labels = batch\n",
    "    for idx in range(len(bboxes)):\n",
    "        bboxes[idx] = [coord.item() for coord in bboxes[idx]]  # Convert tensor to scalar\n",
    "        real_bbox_label_pairs.append([bboxes[idx], labels[idx].item()])\n",
    "        \n",
    "    real_bbox_label_image_vis.append({\n",
    "        \"image\": images[0].numpy(),  # Convert tensor to numpy array\n",
    "         \"bbox\": bboxes,\n",
    "        \"label\": [label.item for label in labels]\n",
    "    })\n",
    "            \n",
    "    ctest += 1"
   ]
  },
  {
   "cell_type": "code",
   "execution_count": 20,
   "metadata": {},
   "outputs": [],
   "source": [
    "def plot_image_with_boxes(dict_info, name):\n",
    "    colors = ['r', 'g', 'b', 'y', 'm', 'c', 'k', 'w']\n",
    "    fig, ax = plt.subplots()\n",
    "    ax.imshow(dict_info[\"image\"].transpose(1, 2, 0))\n",
    "    \n",
    "    for i, (bbox, label) in enumerate(zip(dict_info[\"bbox\"], dict_info[\"label\"])):\n",
    "        x1, y1, x2, y2 = bbox\n",
    "        width = x2 - x1\n",
    "        height = y2 - y1\n",
    "        rect = patches.Rectangle((x1, y1), width, height, linewidth=1, edgecolor=colors[i % len(colors)], facecolor='none')\n",
    "        ax.add_patch(rect)\n",
    "        ax.text(x1, y1, str(label), color=colors[i % len(colors)])\n",
    "    plt.title(f\"{name}_img\")\n",
    "    plt.savefig(f\"{name}_img.png\")"
   ]
  },
  {
   "cell_type": "code",
   "execution_count": 31,
   "metadata": {},
   "outputs": [
    {
     "name": "stdout",
     "output_type": "stream",
     "text": [
      "bbox before no max [[[54, 161, 15, 20], 6, 0.2346305251121521], [[108, 165, 17, 12], 2, 0.22893688082695007], [[108, 165, 18, 13], 2, 0.27918609976768494], [[0, 51, 37, 36], 4, 0.3563360571861267], [[228, 159, 28, 26], 6, 0.26635584235191345], [[110, 183, 49, 38], 4, 0.1736883819103241], [[178, 105, 24, 29], 2, 0.1728486269712448], [[228, 0, 28, 22], 6, 0.21350903809070587], [[190, 121, 12, 13], 6, 0.16983948647975922], [[0, 58, 23, 32], 4, 0.36762821674346924], [[10, 207, 21, 20], 6, 0.16170525550842285], [[101, 84, 22, 10], 6, 0.25360211730003357], [[99, 84, 25, 10], 6, 0.3055010437965393], [[99, 85, 23, 10], 6, 0.4451828896999359], [[99, 85, 24, 10], 6, 0.44041821360588074], [[151, 69, 29, 25], 3, 0.18938574194908142], [[0, 0, 256, 256], 2, 0.22453895211219788], [[126, 176, 26, 13], 2, 0.23466433584690094], [[0, 5, 104, 18], 2, 0.2582848072052002], [[56, 118, 140, 72], 6, 0.16993197798728943], [[122, 88, 23, 12], 3, 0.2591009736061096], [[153, 92, 19, 31], 2, 0.2651243209838867], [[168, 116, 28, 32], 4, 0.2548218369483948], [[76, 2, 59, 8], 1, 0.3010946214199066], [[147, 80, 63, 39], 1, 0.21440623700618744], [[106, 183, 43, 10], 6, 0.30147066712379456], [[106, 216, 92, 28], 2, 0.2947694659233093], [[115, 2, 20, 8], 5, 0.20295265316963196], [[0, 5, 161, 36], 1, 0.21070818603038788], [[76, 5, 85, 18], 4, 0.3773006200790405], [[154, 94, 17, 25], 2, 0.26081758737564087], [[0, 89, 103, 13], 2, 0.17410846054553986], [[119, 3, 17, 7], 2, 0.29793161153793335], [[167, 112, 29, 36], 4, 0.1976030468940735], [[104, 172, 48, 17], 2, 0.290737122297287], [[84, 170, 44, 19], 6, 0.205308735370636], [[120, 0, 32, 10], 2, 0.3337100148200989], [[175, 144, 24, 49], 4, 0.18608950078487396], [[168, 95, 19, 17], 3, 0.23426322638988495], [[105, 174, 41, 11], 2, 0.24669155478477478], [[104, 174, 42, 11], 2, 0.26553234457969666], [[53, 118, 162, 75], 4, 0.23434923589229584], [[119, 22, 42, 26], 1, 0.20020058751106262], [[40, 216, 216, 40], 1, 0.2731035351753235], [[120, 25, 40, 24], 1, 0.22705763578414917], [[168, 116, 61, 59], 1, 0.20057430863380432], [[9, 201, 247, 55], 1, 0.20379431545734406], [[0, 62, 131, 12], 2, 0.1975110024213791], [[180, 201, 76, 24], 2, 0.2845093011856079], [[66, 0, 85, 10], 1, 0.25240057706832886], [[54, 118, 144, 74], 6, 0.1813652217388153], [[0, 72, 103, 10], 6, 0.19183014333248138], [[0, 92, 132, 44], 2, 0.2204640507698059], [[0, 35, 162, 19], 1, 0.1937500536441803], [[0, 0, 256, 219], 4, 0.2208612561225891], [[0, 62, 131, 20], 4, 0.21549507975578308], [[47, 13, 57, 10], 4, 0.19941315054893494], [[9, 224, 39, 32], 4, 0.2238958477973938], [[53, 116, 144, 76], 4, 0.1755094677209854], [[195, 136, 20, 35], 4, 0.24638234078884125], [[0, 5, 101, 17], 2, 0.2898280620574951], [[119, 106, 34, 16], 4, 0.17217311263084412], [[114, 88, 44, 43], 6, 0.28247347474098206], [[79, 170, 74, 21], 2, 0.27543798089027405], [[53, 105, 144, 87], 5, 0.19627973437309265], [[54, 118, 144, 76], 4, 0.18978679180145264], [[114, 88, 47, 49], 6, 0.24687008559703827], [[53, 116, 163, 77], 4, 0.20636746287345886], [[53, 118, 146, 75], 6, 0.20363114774227142], [[53, 118, 143, 73], 6, 0.19518117606639862], [[53, 116, 164, 76], 4, 0.2247573584318161], [[53, 118, 163, 75], 4, 0.21462436020374298], [[0, 67, 58, 68], 6, 0.2250216007232666], [[84, 60, 63, 39], 4, 0.2617628872394562], [[126, 0, 18, 9], 6, 0.20482520759105682], [[121, 116, 24, 13], 4, 0.18301202356815338], [[60, 142, 33, 27], 4, 0.17296846210956573], [[201, 115, 20, 22], 6, 0.22603033483028412], [[117, 131, 32, 20], 3, 0.3352994918823242], [[113, 162, 29, 13], 4, 0.19757080078125], [[0, 100, 12, 23], 6, 0.17920036613941193], [[0, 165, 256, 91], 6, 0.18930776417255402], [[45, 133, 146, 84], 4, 0.19514743983745575], [[45, 133, 112, 79], 3, 0.19383099675178528], [[17, 107, 153, 107], 6, 0.24752651154994965], [[0, 0, 140, 89], 4, 0.2841793894767761], [[148, 0, 44, 84], 3, 0.1876257210969925], [[153, 134, 14, 36], 7, 0.20459504425525665], [[156, 135, 11, 35], 3, 0.2576516568660736], [[98, 196, 22, 10], 7, 0.17543038725852966], [[160, 89, 24, 14], 1, 0.25042617321014404], [[0, 0, 256, 228], 4, 0.20115172863006592], [[97, 133, 79, 66], 6, 0.24315552413463593], [[204, 194, 17, 21], 4, 0.17033326625823975], [[139, 87, 34, 13], 4, 0.18308383226394653], [[0, 0, 256, 256], 4, 0.2011042982339859], [[109, 0, 147, 172], 5, 0.19324275851249695], [[139, 87, 17, 11], 4, 0.18256181478500366], [[101, 163, 50, 29], 3, 0.169328972697258], [[0, 192, 34, 43], 4, 0.1704869270324707], [[161, 66, 22, 15], 1, 0.23587824404239655], [[126, 24, 22, 9], 7, 0.1965283453464508], [[219, 196, 24, 36], 1, 0.19967742264270782], [[139, 54, 16, 17], 1, 0.19581305980682373], [[193, 160, 63, 48], 1, 0.2066909223794937], [[141, 108, 15, 10], 7, 0.2675372362136841], [[139, 108, 18, 12], 7, 0.2598040699958801], [[140, 108, 16, 10], 7, 0.42543813586235046], [[139, 107, 18, 12], 7, 0.28629299998283386], [[140, 107, 15, 12], 7, 0.2684847414493561], [[141, 109, 14, 9], 2, 0.18111130595207214], [[138, 235, 19, 18], 1, 0.2922385334968567], [[222, 78, 21, 42], 1, 0.5556575655937195], [[0, 0, 256, 256], 1, 0.21855983138084412], [[33, 220, 109, 36], 1, 0.299923837184906], [[0, 0, 256, 156], 4, 0.20563426613807678], [[0, 0, 256, 136], 4, 0.24555575847625732], [[0, 92, 256, 164], 1, 0.18520455062389374], [[150, 97, 20, 25], 3, 0.2370270937681198], [[124, 0, 66, 62], 7, 0.1891743540763855], [[197, 184, 20, 21], 1, 0.28700771927833557], [[96, 218, 35, 38], 4, 0.27562350034713745], [[146, 209, 36, 34], 4, 0.22803895175457], [[170, 160, 15, 17], 4, 0.21508777141571045], [[135, 149, 55, 57], 4, 0.35131824016571045], [[67, 212, 23, 25], 1, 0.17425505816936493], [[146, 209, 36, 21], 4, 0.17072801291942596], [[20, 137, 111, 119], 4, 0.26099976897239685], [[204, 227, 15, 25], 7, 0.17181602120399475], [[103, 110, 59, 31], 2, 0.2585590183734894], [[103, 110, 59, 39], 2, 0.24863913655281067], [[243, 133, 13, 25], 2, 0.5137401223182678], [[0, 55, 27, 22], 7, 0.2307433933019638], [[182, 78, 16, 16], 6, 0.23444926738739014], [[214, 92, 17, 27], 2, 0.20387259125709534], [[212, 113, 30, 25], 2, 0.23280777037143707], [[158, 34, 42, 36], 7, 0.1882838010787964], [[0, 154, 32, 30], 6, 0.2428935021162033], [[68, 56, 16, 23], 3, 0.20294009149074554], [[249, 131, 7, 27], 7, 0.250789612531662], [[133, 71, 17, 20], 6, 0.20815487205982208], [[135, 0, 32, 14], 6, 0.19090384244918823], [[212, 116, 27, 21], 2, 0.2003546953201294], [[91, 105, 70, 63], 2, 0.4360584020614624], [[91, 53, 102, 115], 6, 0.25728297233581543], [[95, 118, 65, 49], 3, 0.1926642656326294], [[100, 116, 62, 52], 3, 0.21434010565280914], [[90, 117, 73, 51], 3, 0.298445463180542], [[156, 65, 30, 23], 2, 0.251352459192276], [[140, 75, 19, 13], 2, 0.20956602692604065], [[218, 98, 15, 28], 6, 0.20990756154060364], [[210, 83, 23, 45], 6, 0.25626853108406067], [[0, 0, 190, 87], 4, 0.26584210991859436], [[0, 0, 256, 256], 6, 0.2926850914955139], [[7, 179, 75, 23], 4, 0.3810276389122009], [[46, 51, 19, 20], 2, 0.21600167453289032], [[155, 66, 30, 19], 2, 0.37062370777130127], [[177, 95, 16, 12], 2, 0.3196581304073334], [[128, 16, 14, 17], 6, 0.4204995334148407], [[81, 0, 17, 10], 1, 0.20248033106327057], [[177, 95, 14, 12], 2, 0.18297845125198364], [[8, 180, 13, 18], 4, 0.15344400703907013], [[176, 94, 16, 14], 2, 0.2545436918735504], [[176, 94, 18, 14], 2, 0.30196285247802734], [[177, 94, 16, 13], 2, 0.34248214960098267], [[124, 76, 35, 114], 4, 0.26191169023513794], [[205, 45, 10, 25], 6, 0.22806714475154877], [[57, 211, 13, 21], 1, 0.19886785745620728], [[122, 207, 59, 49], 4, 0.19570721685886383], [[243, 152, 13, 27], 6, 0.26203060150146484], [[204, 33, 52, 170], 4, 0.1951223462820053], [[139, 76, 14, 20], 5, 0.5459190607070923], [[233, 0, 18, 14], 6, 0.20441709458827972], [[239, 46, 17, 21], 2, 0.31155550479888916], [[153, 111, 49, 38], 6, 0.17505750060081482], [[156, 111, 47, 37], 7, 0.1884204000234604], [[80, 183, 27, 21], 1, 0.17594961822032928], [[70, 125, 26, 21], 1, 0.18850404024124146], [[127, 95, 26, 25], 5, 0.30623868107795715], [[127, 146, 24, 23], 1, 0.338085800409317], [[129, 69, 28, 32], 2, 0.24548886716365814], [[0, 48, 256, 208], 6, 0.21186304092407227], [[50, 133, 100, 50], 6, 0.22083227336406708], [[171, 207, 13, 15], 1, 0.178507998585701], [[64, 123, 68, 46], 6, 0.21053239703178406], [[0, 0, 256, 256], 6, 0.35683202743530273], [[127, 67, 31, 102], 5, 0.24796178936958313], [[128, 67, 34, 98], 5, 0.31979307532310486], [[127, 67, 31, 98], 5, 0.26406556367874146], [[127, 67, 35, 102], 5, 0.269807368516922], [[38, 0, 15, 20], 6, 0.24015861749649048], [[223, 43, 33, 38], 2, 0.20862795412540436], [[0, 0, 256, 256], 3, 0.20172876119613647], [[199, 0, 57, 69], 2, 0.19685238599777222], [[105, 127, 20, 34], 5, 0.21210114657878876], [[0, 0, 28, 11], 7, 0.233141228556633], [[38, 0, 14, 19], 6, 0.21209357678890228], [[223, 43, 25, 26], 3, 0.2552563548088074], [[102, 127, 23, 34], 6, 0.2056739181280136], [[104, 127, 21, 34], 6, 0.21755361557006836], [[0, 0, 256, 256], 4, 0.2503443658351898], [[193, 0, 63, 9], 1, 0.2593231499195099], [[88, 67, 40, 7], 5, 0.19820968806743622], [[188, 185, 18, 13], 6, 0.179070845246315], [[173, 241, 49, 15], 6, 0.16912341117858887], [[0, 79, 41, 34], 5, 0.18483595550060272], [[0, 0, 256, 56], 4, 0.1956040859222412], [[68, 65, 86, 42], 2, 0.17844852805137634], [[75, 226, 18, 30], 3, 0.19769036769866943], [[188, 68, 68, 11], 5, 0.23367871344089508], [[143, 75, 49, 31], 7, 0.21125593781471252], [[145, 76, 45, 29], 7, 0.3837062120437622], [[145, 75, 59, 30], 7, 0.27362215518951416], [[145, 76, 59, 29], 7, 0.2336231917142868], [[116, 164, 45, 47], 2, 0.17466987669467926], [[0, 93, 15, 23], 7, 0.18786931037902832], [[23, 202, 48, 54], 2, 0.15781822800636292], [[53, 12, 23, 27], 6, 0.22118963301181793], [[0, 104, 61, 64], 6, 0.20156995952129364], [[13, 186, 18, 11], 3, 0.2599482834339142], [[202, 40, 54, 58], 1, 0.2617565989494324], [[0, 0, 256, 115], 5, 0.26585856080055237], [[91, 104, 24, 10], 7, 0.16345784068107605], [[236, 116, 20, 23], 6, 0.22196213901042938], [[89, 136, 16, 18], 6, 0.21502850949764252], [[198, 194, 13, 21], 6, 0.23287425935268402], [[184, 207, 17, 14], 6, 0.22410550713539124], [[89, 152, 117, 104], 3, 0.19619113206863403], [[99, 108, 39, 42], 6, 0.23538121581077576], [[0, 0, 113, 178], 4, 0.2037428617477417], [[214, 211, 19, 14], 6, 0.26995420455932617], [[65, 122, 191, 134], 1, 0.17118370532989502], [[86, 108, 22, 22], 6, 0.18830618262290955], [[119, 0, 27, 10], 1, 0.190756693482399], [[58, 0, 76, 67], 6, 0.20990844070911407], [[107, 39, 27, 20], 6, 0.22774972021579742], [[0, 207, 81, 49], 6, 0.1812901347875595], [[116, 119, 11, 16], 6, 0.22427482903003693], [[89, 108, 49, 46], 6, 0.17080500721931458], [[127, 57, 129, 199], 6, 0.24983523786067963], [[64, 216, 17, 22], 6, 0.24236489832401276], [[86, 133, 71, 57], 6, 0.23120179772377014], [[86, 132, 71, 58], 6, 0.1960584670305252], [[85, 131, 78, 58], 6, 0.20932553708553314], [[93, 132, 64, 51], 6, 0.21211744844913483], [[88, 129, 69, 60], 6, 0.1774221509695053], [[88, 129, 69, 63], 3, 0.18105582892894745], [[85, 131, 78, 68], 6, 0.2680993378162384]]\n",
      "bbox after no max [[[222, 78, 21, 42], 1, 0.5556575655937195], [[139, 76, 14, 20], 5, 0.5459190607070923], [[243, 133, 13, 25], 2, 0.5137401223182678]]\n"
     ]
    },
    {
     "ename": "ZeroDivisionError",
     "evalue": "division by zero",
     "output_type": "error",
     "traceback": [
      "\u001b[0;31m---------------------------------------------------------------------------\u001b[0m",
      "\u001b[0;31mZeroDivisionError\u001b[0m                         Traceback (most recent call last)",
      "Cell \u001b[0;32mIn[31], line 10\u001b[0m\n\u001b[1;32m      7\u001b[0m \u001b[39mprint\u001b[39m(\u001b[39m\"\u001b[39m\u001b[39mbbox after no max\u001b[39m\u001b[39m\"\u001b[39m, bbox_new)\n\u001b[1;32m      8\u001b[0m \u001b[39massert\u001b[39;00m \u001b[39mlen\u001b[39m(bbox_new) \u001b[39m!=\u001b[39m \u001b[39m0\u001b[39m, \u001b[39m\"\u001b[39m\u001b[39mError: bbox is empty and current code can\u001b[39m\u001b[39m'\u001b[39m\u001b[39mt handle it\u001b[39m\u001b[39m\"\u001b[39m\n\u001b[0;32m---> 10\u001b[0m average_precision, precision, recall \u001b[39m=\u001b[39m mean_average_precision(real_bbox_label_pairs, bbox_new)\n\u001b[1;32m     11\u001b[0m \u001b[39mprint\u001b[39m(\u001b[39m\"\u001b[39m\u001b[39maverage_precision\u001b[39m\u001b[39m\"\u001b[39m, average_precision)\n\u001b[1;32m     12\u001b[0m \u001b[39mprint\u001b[39m(\u001b[39m\"\u001b[39m\u001b[39mprecision\u001b[39m\u001b[39m\"\u001b[39m, precision)\n",
      "File \u001b[0;32m~/myfolder/DLCV_GRP_23/Projects/Project4/src/utility.py:92\u001b[0m, in \u001b[0;36mmean_average_precision\u001b[0;34m(bbox_true, bbox_pred, threshold_iot, plot)\u001b[0m\n\u001b[1;32m     90\u001b[0m \u001b[39m#calculate precision and recall\u001b[39;00m\n\u001b[1;32m     91\u001b[0m precision \u001b[39m=\u001b[39m [\u001b[39msum\u001b[39m(match[:i\u001b[39m+\u001b[39m\u001b[39m1\u001b[39m]) \u001b[39m/\u001b[39m (i\u001b[39m+\u001b[39m\u001b[39m1\u001b[39m) \u001b[39mfor\u001b[39;00m i \u001b[39min\u001b[39;00m \u001b[39mrange\u001b[39m(\u001b[39mlen\u001b[39m(match))]\n\u001b[0;32m---> 92\u001b[0m recall \u001b[39m=\u001b[39m [\u001b[39msum\u001b[39m(match[:i\u001b[39m+\u001b[39m\u001b[39m1\u001b[39m]) \u001b[39m/\u001b[39m \u001b[39mlen\u001b[39m(bbox_gt) \u001b[39mfor\u001b[39;00m i \u001b[39min\u001b[39;00m \u001b[39mrange\u001b[39m(\u001b[39mlen\u001b[39m(match))]\n\u001b[1;32m     94\u001b[0m \u001b[39m#calculate average precision\u001b[39;00m\n\u001b[1;32m     95\u001b[0m average_precision \u001b[39m=\u001b[39m np\u001b[39m.\u001b[39mtrapz(y \u001b[39m=\u001b[39m precision, x \u001b[39m=\u001b[39m recall)\n",
      "File \u001b[0;32m~/myfolder/DLCV_GRP_23/Projects/Project4/src/utility.py:92\u001b[0m, in \u001b[0;36m<listcomp>\u001b[0;34m(.0)\u001b[0m\n\u001b[1;32m     90\u001b[0m \u001b[39m#calculate precision and recall\u001b[39;00m\n\u001b[1;32m     91\u001b[0m precision \u001b[39m=\u001b[39m [\u001b[39msum\u001b[39m(match[:i\u001b[39m+\u001b[39m\u001b[39m1\u001b[39m]) \u001b[39m/\u001b[39m (i\u001b[39m+\u001b[39m\u001b[39m1\u001b[39m) \u001b[39mfor\u001b[39;00m i \u001b[39min\u001b[39;00m \u001b[39mrange\u001b[39m(\u001b[39mlen\u001b[39m(match))]\n\u001b[0;32m---> 92\u001b[0m recall \u001b[39m=\u001b[39m [\u001b[39msum\u001b[39;49m(match[:i\u001b[39m+\u001b[39;49m\u001b[39m1\u001b[39;49m]) \u001b[39m/\u001b[39;49m \u001b[39mlen\u001b[39;49m(bbox_gt) \u001b[39mfor\u001b[39;00m i \u001b[39min\u001b[39;00m \u001b[39mrange\u001b[39m(\u001b[39mlen\u001b[39m(match))]\n\u001b[1;32m     94\u001b[0m \u001b[39m#calculate average precision\u001b[39;00m\n\u001b[1;32m     95\u001b[0m average_precision \u001b[39m=\u001b[39m np\u001b[39m.\u001b[39mtrapz(y \u001b[39m=\u001b[39m precision, x \u001b[39m=\u001b[39m recall)\n",
      "\u001b[0;31mZeroDivisionError\u001b[0m: division by zero"
     ]
    }
   ],
   "source": [
    "\n",
    "# print(\"Real bounding box and label pairs for visualization: \", real_bbox_label_image_vis)\n",
    "# print(\"Predicted bounding box and label pairs for visualization: \", predicted_bbox_label_vis_per_image)\n",
    "# print(\"Predicted bounding box and label pairs for visualization: \", None)\n",
    "\n",
    "print(\"bbox before no max\", bbox_label_pairs)\n",
    "bbox_new = no_max_supression(bbox_label_pairs, 0.5, 0.4)\n",
    "print(\"bbox after no max\", bbox_new)\n",
    "assert len(bbox_new) != 0, \"Error: bbox is empty and current code can't handle it\"\n",
    "\n",
    "average_precision, precision, recall = mean_average_precision(real_bbox_label_pairs, bbox_new)\n",
    "print(\"average_precision\", average_precision)\n",
    "print(\"precision\", precision)\n",
    "print(\"recall\", recall)\n",
    "\n",
    "os.makedirs(\"plots\", exist_ok=True)\n",
    "for idx in range(8):\n",
    "    plot_image_with_boxes(real_bbox_label_image_vis[idx], f\"GT{idx}\")\n",
    "    \n",
    "    # plot_image_with_boxes(real_bbox_label_image_vis[idx], \"GT\")\n",
    "\n"
   ]
  }
 ],
 "metadata": {
  "kernelspec": {
   "display_name": ".venv",
   "language": "python",
   "name": "python3"
  },
  "language_info": {
   "codemirror_mode": {
    "name": "ipython",
    "version": 3
   },
   "file_extension": ".py",
   "mimetype": "text/x-python",
   "name": "python",
   "nbconvert_exporter": "python",
   "pygments_lexer": "ipython3",
   "version": "3.10.2"
  },
  "orig_nbformat": 4
 },
 "nbformat": 4,
 "nbformat_minor": 2
}
