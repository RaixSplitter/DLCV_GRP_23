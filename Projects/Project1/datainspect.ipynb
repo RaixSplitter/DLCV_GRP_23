{
 "cells": [
  {
   "cell_type": "code",
   "execution_count": 3,
   "metadata": {},
   "outputs": [],
   "source": [
    "import numpy\n",
    "import matplotlib.pyplot as plt\n",
    "import seaborn\n",
    "import os"
   ]
  },
  {
   "attachments": {},
   "cell_type": "markdown",
   "metadata": {},
   "source": [
    "<h1>CONFIG</h1>"
   ]
  },
  {
   "cell_type": "code",
   "execution_count": 29,
   "metadata": {},
   "outputs": [],
   "source": [
    "DATA_DIR_PATH = \"../../02514/hotdog_nothotdog\" #Go up 2 parent folders and down to the data folder"
   ]
  },
  {
   "attachments": {},
   "cell_type": "markdown",
   "metadata": {},
   "source": [
    "<h4>Check PATHS<h4>"
   ]
  },
  {
   "cell_type": "code",
   "execution_count": 30,
   "metadata": {},
   "outputs": [
    {
     "name": "stdout",
     "output_type": "stream",
     "text": [
      "DATA Path exists:\n",
      "Contents:['test', 'train']\n"
     ]
    }
   ],
   "source": [
    "if os.path.exists(DATA_DIR_PATH):\n",
    "    print(f\"DATA Path exists:\\nContents:{os.listdir(DATA_DIR_PATH)}\")\n",
    "else: print(\"DATA Path not found\")\n"
   ]
  },
  {
   "cell_type": "code",
   "execution_count": 35,
   "metadata": {},
   "outputs": [
    {
     "data": {
      "text/plain": [
       "1075"
      ]
     },
     "execution_count": 35,
     "metadata": {},
     "output_type": "execute_result"
    }
   ],
   "source": [
    "path_train = os.path.join(DATA_DIR_PATH, 'train')\n",
    "path_train_positive = os.path.join(path_train, 'hotdog')\n",
    "path_train_negative = os.path.join(path_train, 'nothotdog')\n",
    "N_train_positive = len(os.listdir(path_train_positive))\n",
    "N_train_negative = len(os.listdir(path_train_positive))\n",
    "\n",
    "path_test = os.path.join(DATA_DIR_PATH, 'test')\n"
   ]
  },
  {
   "cell_type": "code",
   "execution_count": null,
   "metadata": {},
   "outputs": [],
   "source": []
  },
  {
   "cell_type": "code",
   "execution_count": null,
   "metadata": {},
   "outputs": [],
   "source": []
  }
 ],
 "metadata": {
  "kernelspec": {
   "display_name": "Python 3",
   "language": "python",
   "name": "python3"
  },
  "language_info": {
   "codemirror_mode": {
    "name": "ipython",
    "version": 3
   },
   "file_extension": ".py",
   "mimetype": "text/x-python",
   "name": "python",
   "nbconvert_exporter": "python",
   "pygments_lexer": "ipython3",
   "version": "3.10.11"
  },
  "orig_nbformat": 4
 },
 "nbformat": 4,
 "nbformat_minor": 2
}
