{
 "cells": [
  {
   "cell_type": "code",
   "execution_count": null,
   "metadata": {},
   "outputs": [],
   "source": [
    "import glob\n",
    "import os\n",
    "import numpy as np\n",
    "from PIL.Image import open as Img_open\n",
    "from matplotlib import pyplot as plt"
   ]
  },
  {
   "cell_type": "code",
   "execution_count": null,
   "metadata": {},
   "outputs": [],
   "source": [
    "Images = ['food (205).jpg pred 0', 'food (318).jpg pred 0', 'pets (144).jpg pred 0', 'food (26).jpg pred 0', 'food (73).jpg pred 0', 'food (213).jpg pred 0', 'food (515).jpg pred 0', 'food (497).jpg pred 0', 'pets (288).jpg pred 0', 'food (62).jpg pred 0', 'people (348).jpg pred 0', 'food (364).jpg pred 0', 'food (8).jpg pred 0', 'food (514).jpg pred 0', 'food (449).jpg pred 0', 'food (56).jpg pred 0', 'food (168).jpg pred 0', 'food (345).jpg pred 0', 'food (439).jpg pred 0', 'food (274).jpg pred 0', 'food (241).jpg pred 0', 'food (97).jpg pred 0', 'food (516).jpg pred 0', 'food (143).jpg pred 0', 'food (3).jpg pred 0', 'food (401).jpg pred 0', 'food (513).jpg pred 0', 'food (120).jpg pred 0', 'food (357).jpg pred 0', 'people (173).jpg pred 0', 'food (198).jpg pred 0', 'pets (584).jpg pred 0', 'food (268).jpg pred 0', 'food (231).jpg pred 0', 'food (248).jpg pred 0', 'food (393).jpg pred 0', 'food (170).jpg pred 0', 'food (159).jpg pred 0', 'food (122).jpg pred 0', 'food (64).jpg pred 0', 'food (74).jpg pred 0', 'food (267).jpg pred 0', 'frankfurter (195).jpg pred 1', 'frankfurter (140).jpg pred 1', 'hotdog (185).jpg pred 1', 'chilidog (196).jpg pred 1', 'frankfurter (243).jpg pred 1', 'hotdog (302).jpg pred 1', 'frankfurter (115).jpg pred 1', 'frankfurter (52).jpg pred 1', 'frankfurter (240).jpg pred 1', 'frankfurter (228).jpg pred 1', 'hotdog (275).jpg pred 1', 'frankfurter (176).jpg pred 1', 'hotdog (32).jpg pred 1', 'frankfurter (231).jpg pred 1', 'frankfurter (67).jpg pred 1', 'hotdog (168).jpg pred 1', 'frankfurter (237).jpg pred 1', 'frankfurter (69).jpg pred 1', 'frankfurter (41).jpg pred 1', 'frankfurter (84).jpg pred 1', 'frankfurter (76).jpg pred 1', 'frankfurter (101).jpg pred 1', 'chilidog (255).jpg pred 1', 'hotdog (294).jpg pred 1', 'frankfurter (165).jpg pred 1', 'hotdog (312).jpg pred 1', 'chilidog (217).jpg pred 1', 'chilidog (127).jpg pred 1', 'frankfurter (164).jpg pred 1', 'frankfurter (166).jpg pred 1', 'hotdog (57).jpg pred 1', 'frankfurter (95).jpg pred 1', 'frankfurter (242).jpg pred 1', 'hotdog (287).jpg pred 1', 'chilidog (16).jpg pred 1', 'chilidog (76).jpg pred 1', 'chilidog (262).jpg pred 1', 'chilidog (126).jpg pred 1', 'hotdog (109).jpg pred 1', 'chilidog (50).jpg pred 1', 'hotdog (63).jpg pred 1', 'chilidog (39).jpg pred 1', 'frankfurter (131).jpg pred 1', 'frankfurter (16).jpg pred 1', 'chilidog (28).jpg pred 1', 'frankfurter (11).jpg pred 1', 'frankfurter (232).jpg pred 1', 'hotdog (206).jpg pred 1', 'frankfurter (182).jpg pred 1', 'frankfurter (5).jpg pred 1', 'chilidog (66).jpg pred 1', 'frankfurter (151).jpg pred 1', 'frankfurter (204).jpg pred 1', 'chilidog (278).jpg pred 1', 'frankfurter (222).jpg pred 1', 'chilidog (152).jpg pred 1', 'chilidog (72).jpg pred 1', 'hotdog (216).jpg pred 1', 'frankfurter (127).jpg pred 1', 'chilidog (106).jpg pred 1', 'frankfurter (138).jpg pred 1', 'chilidog (244).jpg pred 1', 'hotdog (307).jpg pred 1', 'hotdog (221).jpg pred 1', 'chilidog (145).jpg pred 1', 'chilidog (153).jpg pred 1']\n",
    "Image_folder = \"hotdog_nothotdog\"\n",
    "Code_path = os.getcwd()\n",
    "while True:\n",
    "    if len(os_path := glob.glob(Image_folder)) > 0:\n",
    "        os.chdir(os_path[0])\n",
    "        break\n",
    "    os.chdir(\"../\")\n",
    "os.getcwd()"
   ]
  },
  {
   "cell_type": "code",
   "execution_count": null,
   "metadata": {},
   "outputs": [],
   "source": [
    "rows        = 2\n",
    "columns     = 7\n",
    "start_idx   = 0\n",
    "step        = 1\n",
    "Equal_yes_no= False\n",
    "\n",
    "fig, axs = plt.subplots(rows,columns,figsize=(columns*3+1,5.4*rows+1),subplot_kw={\"xticks\":[], \"yticks\":[]}, gridspec_kw=dict(hspace=0.01, wspace=0.01),facecolor='#170120')\n",
    "fig.set_label(\"Wrongly classified\")\n",
    "Lab = {\"0\":\"Yes\",\"1\":\"No\"}\n",
    "Lab_c = {\"0\":\"#07d2dd\",\"1\":\"#dd0707\"}\n",
    "Pred_count = {\"0\":0,\"1\":0}\n",
    "for i in range(rows): \n",
    "    for j in range(columns): \n",
    "        while True:\n",
    "            File,Pred = Images[start_idx+step*(columns*i+j)].split(\".\")\n",
    "            File = File+\".\"+Pred[:3]\n",
    "            Pred = Pred[-1]\n",
    "            if Equal_yes_no:\n",
    "                if Pred_count[Pred] == (rows*columns-1)//2+1:\n",
    "                    start_idx += 1\n",
    "                else:\n",
    "                    Pred_count[Pred] += 1\n",
    "                    break\n",
    "            else:\n",
    "                break\n",
    "        im = Img_open(glob.glob(f\"**/{File}\", recursive=True)[0])\n",
    "        img = np.asarray(im)\n",
    "        axs[i,j].imshow( img/np.max(img) )\n",
    "        axs[i,j].set_title(f\"{Pred}:{Lab[Pred]}\",fontsize=20,fontweight='bold',rotation='horizontal').set_color(Lab_c[Pred])\n",
    "plt.savefig(Code_path+\"/plots/Wrong_classify.png\")"
   ]
  }
 ],
 "metadata": {
  "language_info": {
   "name": "python"
  },
  "orig_nbformat": 4
 },
 "nbformat": 4,
 "nbformat_minor": 2
}
